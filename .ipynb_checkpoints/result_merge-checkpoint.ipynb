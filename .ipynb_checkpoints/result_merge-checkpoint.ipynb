{
 "cells": [
  {
   "cell_type": "markdown",
   "id": "7b4c7b9f",
   "metadata": {},
   "source": [
    "## merge"
   ]
  },
  {
   "cell_type": "code",
   "execution_count": 28,
   "id": "8bbe4ff0",
   "metadata": {},
   "outputs": [],
   "source": [
    "from glob import glob\n",
    "import pandas as pd\n",
    "from collections import Counter"
   ]
  },
  {
   "cell_type": "markdown",
   "id": "fe32df8d",
   "metadata": {},
   "source": [
    "### v9"
   ]
  },
  {
   "cell_type": "code",
   "execution_count": 42,
   "id": "bde35b36",
   "metadata": {},
   "outputs": [],
   "source": [
    "v1=pd.read_csv(\"../baseline_0452_v1.csv\")\n",
    "v2=pd.read_csv(\"../baseline_0536_v2.csv\")\n",
    "v3=pd.read_csv(\"../baseline_0522_v3.csv\")\n",
    "v4=pd.read_csv(\"../baseline_0547_v4.csv\")\n",
    "v5=pd.read_csv(\"../baseline_0605_v5.csv\")\n",
    "v6=pd.read_csv(\"../baseline_0606_v6.csv\")\n",
    "v7=pd.read_csv(\"../baseline_0615_v7.csv\")\n",
    "v8=pd.read_csv(\"../baseline_0640_v8.csv\")\n",
    "v9=pd.read_csv(\"../baseline_0650_v9.csv\")"
   ]
  },
  {
   "cell_type": "code",
   "execution_count": 43,
   "id": "69db77e4",
   "metadata": {},
   "outputs": [],
   "source": [
    "v1.columns=[\"ID\", \"Class_1\"]\n",
    "v2.columns=[\"ID\", \"Class_2\"]\n",
    "v3.columns=[\"ID\", \"Class_3\"]\n",
    "v4.columns=[\"ID\", \"Class_4\"]\n",
    "v5.columns=[\"ID\", \"Class_5\"]\n",
    "v6.columns=[\"ID\", \"Class_6\"]\n",
    "v7.columns=[\"ID\", \"Class_7\"]\n",
    "v8.columns=[\"ID\", \"Class_8\"]\n",
    "v9.columns=[\"ID\", \"Class_9\"]"
   ]
  },
  {
   "cell_type": "code",
   "execution_count": 44,
   "id": "12bfbae9",
   "metadata": {},
   "outputs": [],
   "source": [
    "total=pd.merge(v1, v2, how=\"left\", on=\"ID\")\n",
    "total=pd.merge(total, v3, how=\"left\", on=\"ID\")\n",
    "total=pd.merge(total, v4, how=\"left\", on=\"ID\")\n",
    "total=pd.merge(total, v5, how=\"left\", on=\"ID\")\n",
    "total=pd.merge(total, v6, how=\"left\", on=\"ID\")\n",
    "total=pd.merge(total, v7, how=\"left\", on=\"ID\")\n",
    "total=pd.merge(total, v8, how=\"left\", on=\"ID\")\n",
    "total=pd.merge(total, v9, how=\"left\", on=\"ID\")"
   ]
  },
  {
   "cell_type": "code",
   "execution_count": 45,
   "id": "3b3af7d8",
   "metadata": {},
   "outputs": [],
   "source": [
    "def calculate_mode(row):\n",
    "    return Counter(row).most_common(1)[0][0]\n",
    "\n",
    "total['final'] = total[total.columns[1:]].apply(calculate_mode, axis=1)"
   ]
  },
  {
   "cell_type": "code",
   "execution_count": 46,
   "id": "f3485215",
   "metadata": {},
   "outputs": [
    {
     "name": "stderr",
     "output_type": "stream",
     "text": [
      "/tmp/ipykernel_2941389/4255981660.py:2: SettingWithCopyWarning: \n",
      "A value is trying to be set on a copy of a slice from a DataFrame\n",
      "\n",
      "See the caveats in the documentation: https://pandas.pydata.org/pandas-docs/stable/user_guide/indexing.html#returning-a-view-versus-a-copy\n",
      "  total_v9.rename(columns={\"final\":\"Class\"}, inplace=True)\n"
     ]
    }
   ],
   "source": [
    "total_v9=total[[\"ID\",\"final\"]]\n",
    "total_v9.rename(columns={\"final\":\"Class\"}, inplace=True)"
   ]
  },
  {
   "cell_type": "markdown",
   "id": "34420388",
   "metadata": {},
   "source": [
    "### v7"
   ]
  },
  {
   "cell_type": "code",
   "execution_count": 47,
   "id": "80875bc6",
   "metadata": {},
   "outputs": [],
   "source": [
    "v1=pd.read_csv(\"../baseline_0452_v1.csv\")\n",
    "v2=pd.read_csv(\"../baseline_0536_v2.csv\")\n",
    "v3=pd.read_csv(\"../baseline_0522_v3.csv\")\n",
    "v4=pd.read_csv(\"../baseline_0547_v4.csv\")\n",
    "v5=pd.read_csv(\"../baseline_0605_v5.csv\")\n",
    "v6=pd.read_csv(\"../baseline_0606_v6.csv\")\n",
    "v7=pd.read_csv(\"../baseline_0615_v7.csv\")"
   ]
  },
  {
   "cell_type": "code",
   "execution_count": 48,
   "id": "ca97b6c9",
   "metadata": {},
   "outputs": [],
   "source": [
    "v1.columns=[\"ID\", \"Class_1\"]\n",
    "v2.columns=[\"ID\", \"Class_2\"]\n",
    "v3.columns=[\"ID\", \"Class_3\"]\n",
    "v4.columns=[\"ID\", \"Class_4\"]\n",
    "v5.columns=[\"ID\", \"Class_5\"]\n",
    "v6.columns=[\"ID\", \"Class_6\"]\n",
    "v7.columns=[\"ID\", \"Class_7\"]"
   ]
  },
  {
   "cell_type": "code",
   "execution_count": 49,
   "id": "cfb2d064",
   "metadata": {
    "scrolled": true
   },
   "outputs": [],
   "source": [
    "total=pd.merge(v1, v2, how=\"left\", on=\"ID\")\n",
    "total=pd.merge(total, v3, how=\"left\", on=\"ID\")\n",
    "total=pd.merge(total, v4, how=\"left\", on=\"ID\")\n",
    "total=pd.merge(total, v5, how=\"left\", on=\"ID\")\n",
    "total=pd.merge(total, v6, how=\"left\", on=\"ID\")\n",
    "total=pd.merge(total, v7, how=\"left\", on=\"ID\")"
   ]
  },
  {
   "cell_type": "code",
   "execution_count": 50,
   "id": "108df396",
   "metadata": {},
   "outputs": [
    {
     "name": "stderr",
     "output_type": "stream",
     "text": [
      "/tmp/ipykernel_2941389/3729388240.py:3: SettingWithCopyWarning: \n",
      "A value is trying to be set on a copy of a slice from a DataFrame\n",
      "\n",
      "See the caveats in the documentation: https://pandas.pydata.org/pandas-docs/stable/user_guide/indexing.html#returning-a-view-versus-a-copy\n",
      "  total_v7.rename(columns={\"final\":\"Class\"}, inplace=True)\n"
     ]
    }
   ],
   "source": [
    "total['final'] = total[total.columns[1:]].apply(calculate_mode, axis=1)\n",
    "total_v7=total[[\"ID\",\"final\"]]\n",
    "total_v7.rename(columns={\"final\":\"Class\"}, inplace=True)"
   ]
  },
  {
   "cell_type": "markdown",
   "id": "41bd8be8",
   "metadata": {},
   "source": [
    "### softvoting"
   ]
  },
  {
   "cell_type": "code",
   "execution_count": 51,
   "id": "c6927068",
   "metadata": {},
   "outputs": [],
   "source": [
    "from glob import glob\n",
    "import pandas as pd\n",
    "\n",
    "import pandas as pd\n",
    "from sklearn.model_selection import train_test_split\n",
    "from autogluon.tabular import TabularPredictor\n",
    "from time import time\n",
    "from datasets import Dataset"
   ]
  },
  {
   "cell_type": "code",
   "execution_count": 52,
   "id": "6431fbfd",
   "metadata": {},
   "outputs": [],
   "source": [
    "test = pd.read_csv('/home/work/skku_train/jy/boaz/hyo_test.csv')"
   ]
  },
  {
   "cell_type": "code",
   "execution_count": null,
   "id": "82bcf5eb",
   "metadata": {},
   "outputs": [],
   "source": [
    "predictor1 = TabularPredictor.load(\"jy_models\")\n",
    "predictor2 = TabularPredictor.load(\"jy_models_2\")\n",
    "predictor3 = TabularPredictor.load(\"jy_models_3\")\n",
    "predictor4 = TabularPredictor.load(\"jy_models_4\")\n",
    "predictor5 = TabularPredictor.load(\"jy_models_5\")\n",
    "predictor6 = TabularPredictor.load(\"jy_models_6\")\n",
    "predictor7 = TabularPredictor.load(\"jy_models_8\")"
   ]
  },
  {
   "cell_type": "code",
   "execution_count": null,
   "id": "468efe01",
   "metadata": {},
   "outputs": [],
   "source": [
    "test_sub = test.drop('ID', axis=1)"
   ]
  },
  {
   "cell_type": "code",
   "execution_count": null,
   "id": "17938807",
   "metadata": {},
   "outputs": [],
   "source": [
    "proba1 = predictor1.predict_proba(test_sub)\n",
    "proba2 = predictor2.predict_proba(test_sub)\n",
    "proba3 = predictor3.predict_proba(test_sub)\n",
    "proba4 = predictor4.predict_proba(test_sub)\n",
    "proba5 = predictor5.predict_proba(test_sub)\n",
    "proba6 = predictor6.predict_proba(test_sub)\n",
    "proba7 = predictor7.predict_proba(test_sub)\n",
    "\n",
    "# 확률 평균 계산\n",
    "final_proba = (proba1 + proba2+ proba3+ proba4+ proba5+ proba6+ proba7) / 7\n",
    "\n",
    "# 최종 예측 라벨 생성\n",
    "final_predictions = final_proba.idxmax(axis=1)"
   ]
  },
  {
   "cell_type": "code",
   "execution_count": null,
   "id": "db3afec2",
   "metadata": {},
   "outputs": [],
   "source": [
    "test_sub['predicted_label'] = final_predictions"
   ]
  },
  {
   "cell_type": "code",
   "execution_count": null,
   "id": "e790b075",
   "metadata": {},
   "outputs": [],
   "source": [
    "sf = pd.read_csv('/home/work/skku_train/jy/boaz/data/submission.csv')"
   ]
  },
  {
   "cell_type": "code",
   "execution_count": null,
   "id": "c7ad6ce9",
   "metadata": {},
   "outputs": [],
   "source": [
    "sf['Class'] = test_sub['predicted_label'].map({0: 'R', 1: 'T'})  # 0: 정상, 1: 이상치"
   ]
  },
  {
   "cell_type": "code",
   "execution_count": 53,
   "id": "cd17efd7",
   "metadata": {},
   "outputs": [],
   "source": [
    "sf=pd.read_csv(\"../submission_softvoting.csv\")"
   ]
  },
  {
   "cell_type": "code",
   "execution_count": 63,
   "id": "b0d047f5",
   "metadata": {},
   "outputs": [],
   "source": [
    "total=pd.merge(total_v7, total_v9, how=\"left\", on=\"ID\")\n",
    "total=pd.merge(total, sf, how=\"left\", on=\"ID\")"
   ]
  },
  {
   "cell_type": "code",
   "execution_count": 64,
   "id": "9d67b376",
   "metadata": {},
   "outputs": [],
   "source": [
    "total['final'] = total[total.columns[1:]].apply(calculate_mode, axis=1)"
   ]
  },
  {
   "cell_type": "code",
   "execution_count": null,
   "id": "c672fc0a",
   "metadata": {},
   "outputs": [],
   "source": [
    "submission = pd.read_csv('/home/work/skku_train/jy/boaz/data/submission.csv')\n",
    "submission['Class'] = tmp['final']\n",
    "submission.to_csv(\"final.csv\", index=False)"
   ]
  }
 ],
 "metadata": {
  "kernelspec": {
   "display_name": "hyo",
   "language": "python",
   "name": "hyo"
  },
  "language_info": {
   "codemirror_mode": {
    "name": "ipython",
    "version": 3
   },
   "file_extension": ".py",
   "mimetype": "text/x-python",
   "name": "python",
   "nbconvert_exporter": "python",
   "pygments_lexer": "ipython3",
   "version": "3.10.4"
  }
 },
 "nbformat": 4,
 "nbformat_minor": 5
}
